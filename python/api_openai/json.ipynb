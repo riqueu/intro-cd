{
 "cells": [
  {
   "cell_type": "code",
   "execution_count": 1,
   "metadata": {},
   "outputs": [
    {
     "name": "stdout",
     "output_type": "stream",
     "text": [
      "{\"student\": {\"name\": \"Amiguinho\", \"major\": \"CdD\", \"classes\": [\"ICdD\", \"IC\"]}}\n"
     ]
    }
   ],
   "source": [
    "import json\n",
    "\"\"\" JSON Example\n",
    "{\n",
    "    \"firstName\": \"Tio\",\n",
    "    \"lastName\": \"Rafa\",\n",
    "    \"hobbies\": [],\n",
    "    \"age\": 40,\n",
    "    \"children\":\n",
    "    [\n",
    "        {\"firstName\": \"Chun\",\"age\": 2},\n",
    "        {\"firstName\": \"Rita\",\"age\": 8}\n",
    "    ]\n",
    "}\n",
    "\n",
    "tools = [{\n",
    "    \"type\": \"function\",\n",
    "    \"function\": {\n",
    "      \"name\": \"???\",\n",
    "      \"description\": \"???\",\n",
    "      \"parameters\": {\n",
    "        \"type\": \"object\",\n",
    "        \"properties\": {\n",
    "          \"???\": {\"type\": \"???\",\"description\": \"???\",},\n",
    "          \"???\": {\"type\": \"???\", \"enum\": [\"???\", \"???\"]},\n",
    "        },\n",
    "        \"required\": [\"???\"],\n",
    "      },\n",
    "    },\n",
    "  }]\n",
    "\"\"\"\n",
    "\n",
    "data = {\n",
    "    \"student\":\n",
    "        {\n",
    "            \"name\": \"Amiguinho\",\n",
    "            \"major\": \"CdD\",\n",
    "            \"classes\": [\"ICdD\", \"IC\"]\n",
    "        }\n",
    "}\n",
    "\n",
    "data_string = json.dumps(data)\n",
    "print(data_string)"
   ]
  }
 ],
 "metadata": {
  "kernelspec": {
   "display_name": "Python 3",
   "language": "python",
   "name": "python3"
  },
  "language_info": {
   "codemirror_mode": {
    "name": "ipython",
    "version": 3
   },
   "file_extension": ".py",
   "mimetype": "text/x-python",
   "name": "python",
   "nbconvert_exporter": "python",
   "pygments_lexer": "ipython3",
   "version": "3.12.3"
  }
 },
 "nbformat": 4,
 "nbformat_minor": 2
}
